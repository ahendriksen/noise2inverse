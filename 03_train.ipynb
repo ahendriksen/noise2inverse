{
 "cells": [
  {
   "cell_type": "code",
   "execution_count": null,
   "metadata": {},
   "outputs": [],
   "source": [
    "import numpy as np\n",
    "from pathlib import Path\n",
    "from noise2inverse import tiffs, noise, fig\n",
    "from noise2inverse.datasets import (\n",
    "    TiffDataset,\n",
    "    Noise2InverseDataset,\n",
    ")\n",
    "import tomosipo as ts\n",
    "import tomopy\n",
    "import tifffile\n",
    "from msd_pytorch import MSDRegressionModel\n",
    "from torch.utils.data import DataLoader\n",
    "from tqdm import tqdm"
   ]
  },
  {
   "cell_type": "code",
   "execution_count": null,
   "metadata": {},
   "outputs": [],
   "source": [
    "# Parameters\n",
    "train_dir = Path(\"reconstructions\")\n",
    "output_dir = Path(\"weights\")\n",
    "\n",
    "num_splits = 4\n",
    "strategy = \"X:1\"\n",
    "epochs = 100\n",
    "batch_size = 16\n",
    "multi_gpu = True\n",
    "# Scale pixel intensities during training such that its values roughly occupy the range [0,1].\n",
    "# This improves convergence.\n",
    "data_scaling = 200"
   ]
  },
  {
   "cell_type": "code",
   "execution_count": null,
   "metadata": {},
   "outputs": [],
   "source": [
    "datasets = [TiffDataset(train_dir / f\"{j}/*.tif\") for j in range(num_splits)]\n",
    "train_ds = Noise2InverseDataset(*datasets, strategy=strategy)\n",
    "\n",
    "train_ds.num_slices, train_ds.num_splits"
   ]
  },
  {
   "cell_type": "code",
   "execution_count": null,
   "metadata": {},
   "outputs": [],
   "source": [
    "fig.plot_imgs(\n",
    "    input=train_ds[0][0].detach().squeeze(),\n",
    "    target=train_ds[0][1].detach().squeeze(),\n",
    "    vmin=0,\n",
    "    vmax=0.008,\n",
    ")"
   ]
  },
  {
   "cell_type": "code",
   "execution_count": null,
   "metadata": {},
   "outputs": [],
   "source": [
    "# Dataloader and network:\n",
    "dl = DataLoader(train_ds, batch_size, shuffle=True,)\n",
    "model = MSDRegressionModel(1, 1, 100, 1, parallel=multi_gpu)"
   ]
  },
  {
   "cell_type": "code",
   "execution_count": null,
   "metadata": {},
   "outputs": [],
   "source": [
    "output_dir.mkdir(exist_ok=True)"
   ]
  },
  {
   "cell_type": "code",
   "execution_count": null,
   "metadata": {},
   "outputs": [],
   "source": [
    "# The dataset contains multiple input-target pairs for each slice. \n",
    "# Therefore, we divide by the number of splits to obtain the effective number of epochs.\n",
    "train_epochs = max(epochs // num_splits, 1)\n",
    "\n",
    "# training loop\n",
    "for epoch in range(train_epochs):\n",
    "    # Train\n",
    "    for (inp, tgt) in tqdm(dl):\n",
    "        inp = inp.cuda(non_blocking=True) * data_scaling\n",
    "        tgt = tgt.cuda(non_blocking=True) * data_scaling\n",
    "\n",
    "        # Do training step with masking\n",
    "        model.output = model.net(inp)\n",
    "        model.loss = model.criterion(model.output, tgt)\n",
    "        model.optimizer.zero_grad()\n",
    "        model.loss.backward()\n",
    "        model.optimizer.step()\n",
    "\n",
    "    # Save network \n",
    "    model.save(output_dir / f\"weights_epoch_{epoch}.torch\", epoch)\n",
    "    \n",
    "model.save(output_dir / \"weights.torch\", epoch)        "
   ]
  },
  {
   "cell_type": "code",
   "execution_count": null,
   "metadata": {},
   "outputs": [],
   "source": []
  }
 ],
 "metadata": {
  "kernelspec": {
   "display_name": "noise2inverse",
   "language": "python",
   "name": "noise2inverse"
  },
  "language_info": {
   "codemirror_mode": {
    "name": "ipython",
    "version": 3
   },
   "file_extension": ".py",
   "mimetype": "text/x-python",
   "name": "python",
   "nbconvert_exporter": "python",
   "pygments_lexer": "ipython3",
   "version": "3.6.10"
  }
 },
 "nbformat": 4,
 "nbformat_minor": 4
}
